{
 "cells": [
  {
   "cell_type": "code",
   "execution_count": 1,
   "id": "d891e9e2",
   "metadata": {},
   "outputs": [],
   "source": [
    "import pixellib\n",
    "from pixellib.tune_bg import alter_bg\n",
    "import cv2"
   ]
  },
  {
   "cell_type": "code",
   "execution_count": 2,
   "id": "74384fb4",
   "metadata": {},
   "outputs": [
    {
     "data": {
      "text/plain": [
       "True"
      ]
     },
     "execution_count": 2,
     "metadata": {},
     "output_type": "execute_result"
    }
   ],
   "source": [
    "change_bg = alter_bg()\n",
    "change_bg.load_pascalvoc_model(\"C:/Users/DELL1/My files/Untitled Folder/deeplabv3_xception_tf_dim_ordering_tf_kernels.h5\")\n",
    "output = change_bg.change_bg_img(f_image_path = \"C:/Users/DELL1/My files/Untitled Folder/view1.jpeg\",\n",
    "                                 b_image_path = \"C:/Users/DELL1/My files/Untitled Folder/bg1.jpg\")\n",
    "cv2.imwrite(\"replaced_bg1.jpg\", output)"
   ]
  },
  {
   "cell_type": "code",
   "execution_count": 3,
   "id": "ec300983",
   "metadata": {},
   "outputs": [
    {
     "data": {
      "text/plain": [
       "True"
      ]
     },
     "execution_count": 3,
     "metadata": {},
     "output_type": "execute_result"
    }
   ],
   "source": [
    "change_bg = alter_bg()\n",
    "change_bg.load_pascalvoc_model(\"C:/Users/DELL1/My files/Untitled Folder/deeplabv3_xception_tf_dim_ordering_tf_kernels.h5\")\n",
    "output = change_bg.change_bg_img(f_image_path = \"C:/Users/DELL1/My files/Untitled Folder/view2.jpeg\",\n",
    "                                 b_image_path = \"C:/Users/DELL1/My files/Untitled Folder/bg1.jpg\")\n",
    "cv2.imwrite(\"replaced_bg2.jpg\", output)"
   ]
  },
  {
   "cell_type": "code",
   "execution_count": 4,
   "id": "1d10da0e",
   "metadata": {},
   "outputs": [
    {
     "data": {
      "text/plain": [
       "True"
      ]
     },
     "execution_count": 4,
     "metadata": {},
     "output_type": "execute_result"
    }
   ],
   "source": [
    "change_bg = alter_bg()\n",
    "change_bg.load_pascalvoc_model(\"C:/Users/DELL1/My files/Untitled Folder/deeplabv3_xception_tf_dim_ordering_tf_kernels.h5\")\n",
    "output = change_bg.change_bg_img(f_image_path = \"C:/Users/DELL1/My files/Untitled Folder/view3.jpeg\",\n",
    "                                 b_image_path = \"C:/Users/DELL1/My files/Untitled Folder/bg1.jpg\")\n",
    "cv2.imwrite(\"replaced_bg3.jpg\", output)"
   ]
  },
  {
   "cell_type": "code",
   "execution_count": 5,
   "id": "3d036e7c",
   "metadata": {},
   "outputs": [
    {
     "data": {
      "text/plain": [
       "True"
      ]
     },
     "execution_count": 5,
     "metadata": {},
     "output_type": "execute_result"
    }
   ],
   "source": [
    "change_bg = alter_bg()\n",
    "change_bg.load_pascalvoc_model(\"C:/Users/DELL1/My files/Untitled Folder/deeplabv3_xception_tf_dim_ordering_tf_kernels.h5\")\n",
    "output = change_bg.color_bg(\"C:/Users/DELL1/My files/Untitled Folder/view1.jpeg\", colors = (0, 128, 0))\n",
    "cv2.imwrite(\"colored1.jpg\", output)"
   ]
  },
  {
   "cell_type": "code",
   "execution_count": 6,
   "id": "eadf3608",
   "metadata": {},
   "outputs": [
    {
     "name": "stdout",
     "output_type": "stream",
     "text": [
      "WARNING:tensorflow:5 out of the last 5 calls to <function Model.make_predict_function.<locals>.predict_function at 0x00000266424388B0> triggered tf.function retracing. Tracing is expensive and the excessive number of tracings could be due to (1) creating @tf.function repeatedly in a loop, (2) passing tensors with different shapes, (3) passing Python objects instead of tensors. For (1), please define your @tf.function outside of the loop. For (2), @tf.function has experimental_relax_shapes=True option that relaxes argument shapes that can avoid unnecessary retracing. For (3), please refer to https://www.tensorflow.org/guide/function#controlling_retracing and https://www.tensorflow.org/api_docs/python/tf/function for  more details.\n"
     ]
    },
    {
     "data": {
      "text/plain": [
       "True"
      ]
     },
     "execution_count": 6,
     "metadata": {},
     "output_type": "execute_result"
    }
   ],
   "source": [
    "change_bg = alter_bg()\n",
    "change_bg.load_pascalvoc_model(\"C:/Users/DELL1/My files/Untitled Folder/deeplabv3_xception_tf_dim_ordering_tf_kernels.h5\")\n",
    "output = change_bg.color_bg(\"C:/Users/DELL1/My files/Untitled Folder/view2.jpeg\", colors = (0, 128, 0))\n",
    "cv2.imwrite(\"colored2.jpg\", output)"
   ]
  },
  {
   "cell_type": "code",
   "execution_count": 7,
   "id": "e4bc3dae",
   "metadata": {},
   "outputs": [
    {
     "name": "stdout",
     "output_type": "stream",
     "text": [
      "WARNING:tensorflow:6 out of the last 6 calls to <function Model.make_predict_function.<locals>.predict_function at 0x0000026643816E50> triggered tf.function retracing. Tracing is expensive and the excessive number of tracings could be due to (1) creating @tf.function repeatedly in a loop, (2) passing tensors with different shapes, (3) passing Python objects instead of tensors. For (1), please define your @tf.function outside of the loop. For (2), @tf.function has experimental_relax_shapes=True option that relaxes argument shapes that can avoid unnecessary retracing. For (3), please refer to https://www.tensorflow.org/guide/function#controlling_retracing and https://www.tensorflow.org/api_docs/python/tf/function for  more details.\n"
     ]
    },
    {
     "data": {
      "text/plain": [
       "True"
      ]
     },
     "execution_count": 7,
     "metadata": {},
     "output_type": "execute_result"
    }
   ],
   "source": [
    "change_bg = alter_bg()\n",
    "change_bg.load_pascalvoc_model(\"C:/Users/DELL1/My files/Untitled Folder/deeplabv3_xception_tf_dim_ordering_tf_kernels.h5\")\n",
    "output = change_bg.color_bg(\"C:/Users/DELL1/My files/Untitled Folder/view3.jpeg\", colors = (0, 128, 0))\n",
    "cv2.imwrite(\"colored3.jpg\", output)"
   ]
  },
  {
   "cell_type": "code",
   "execution_count": 8,
   "id": "c64824a7",
   "metadata": {},
   "outputs": [
    {
     "data": {
      "text/plain": [
       "True"
      ]
     },
     "execution_count": 8,
     "metadata": {},
     "output_type": "execute_result"
    }
   ],
   "source": [
    "change_bg = alter_bg()\n",
    "change_bg.load_pascalvoc_model(\"C:/Users/DELL1/My files/Untitled Folder/deeplabv3_xception_tf_dim_ordering_tf_kernels.h5\")\n",
    "output = change_bg.color_bg(\"C:/Users/DELL1/My files/Untitled Folder/view1.jpeg\", colors = (225, 225, 225))\n",
    "cv2.imwrite(\"white_bg1.jpg\", output)"
   ]
  },
  {
   "cell_type": "code",
   "execution_count": 9,
   "id": "56c1ce37",
   "metadata": {},
   "outputs": [
    {
     "data": {
      "text/plain": [
       "True"
      ]
     },
     "execution_count": 9,
     "metadata": {},
     "output_type": "execute_result"
    }
   ],
   "source": [
    "change_bg = alter_bg()\n",
    "change_bg.load_pascalvoc_model(\"C:/Users/DELL1/My files/Untitled Folder/deeplabv3_xception_tf_dim_ordering_tf_kernels.h5\")\n",
    "output = change_bg.color_bg(\"C:/Users/DELL1/My files/Untitled Folder/view2.jpeg\", colors = (225, 225, 225))\n",
    "cv2.imwrite(\"white_bg2.jpg\", output)"
   ]
  },
  {
   "cell_type": "code",
   "execution_count": 10,
   "id": "52792581",
   "metadata": {},
   "outputs": [
    {
     "data": {
      "text/plain": [
       "True"
      ]
     },
     "execution_count": 10,
     "metadata": {},
     "output_type": "execute_result"
    }
   ],
   "source": [
    "change_bg = alter_bg()\n",
    "change_bg.load_pascalvoc_model(\"C:/Users/DELL1/My files/Untitled Folder/deeplabv3_xception_tf_dim_ordering_tf_kernels.h5\")\n",
    "output = change_bg.color_bg(\"C:/Users/DELL1/My files/Untitled Folder/view3.jpeg\", colors = (225, 225, 225))\n",
    "cv2.imwrite(\"white_bg3.jpg\", output)"
   ]
  },
  {
   "cell_type": "code",
   "execution_count": 11,
   "id": "a1063f90",
   "metadata": {},
   "outputs": [
    {
     "data": {
      "text/plain": [
       "True"
      ]
     },
     "execution_count": 11,
     "metadata": {},
     "output_type": "execute_result"
    }
   ],
   "source": [
    "change_bg = alter_bg()\n",
    "change_bg.load_pascalvoc_model(\"C:/Users/DELL1/My files/Untitled Folder/deeplabv3_xception_tf_dim_ordering_tf_kernels.h5\")\n",
    "output = change_bg.gray_bg(\"C:/Users/DELL1/My files/Untitled Folder/view1.jpeg\")\n",
    "cv2.imwrite(\"gray_bg1.jpg\", output)"
   ]
  },
  {
   "cell_type": "code",
   "execution_count": 12,
   "id": "0bf0b0c5",
   "metadata": {},
   "outputs": [
    {
     "data": {
      "text/plain": [
       "True"
      ]
     },
     "execution_count": 12,
     "metadata": {},
     "output_type": "execute_result"
    }
   ],
   "source": [
    "change_bg = alter_bg()\n",
    "change_bg.load_pascalvoc_model(\"C:/Users/DELL1/My files/Untitled Folder/deeplabv3_xception_tf_dim_ordering_tf_kernels.h5\")\n",
    "output = change_bg.gray_bg(\"C:/Users/DELL1/My files/Untitled Folder/view2.jpeg\")\n",
    "cv2.imwrite(\"gray_bg2.jpg\", output)"
   ]
  },
  {
   "cell_type": "code",
   "execution_count": 13,
   "id": "3a1a10ee",
   "metadata": {},
   "outputs": [
    {
     "data": {
      "text/plain": [
       "True"
      ]
     },
     "execution_count": 13,
     "metadata": {},
     "output_type": "execute_result"
    }
   ],
   "source": [
    "change_bg = alter_bg()\n",
    "change_bg.load_pascalvoc_model(\"C:/Users/DELL1/My files/Untitled Folder/deeplabv3_xception_tf_dim_ordering_tf_kernels.h5\")\n",
    "output = change_bg.gray_bg(\"C:/Users/DELL1/My files/Untitled Folder/view3.jpeg\")\n",
    "cv2.imwrite(\"gray_bg3.jpg\", output)"
   ]
  },
  {
   "cell_type": "code",
   "execution_count": 14,
   "id": "84b226e7",
   "metadata": {},
   "outputs": [
    {
     "data": {
      "text/plain": [
       "True"
      ]
     },
     "execution_count": 14,
     "metadata": {},
     "output_type": "execute_result"
    }
   ],
   "source": [
    "change_bg = alter_bg()\n",
    "change_bg.load_pascalvoc_model(\"C:/Users/DELL1/My files/Untitled Folder/deeplabv3_xception_tf_dim_ordering_tf_kernels.h5\")\n",
    "output = change_bg.blur_bg(\"C:/Users/DELL1/My files/Untitled Folder/view1.jpeg\", moderate = True)\n",
    "cv2.imwrite(\"blur_bg1.jpg\", output)"
   ]
  },
  {
   "cell_type": "code",
   "execution_count": 15,
   "id": "cddcd775",
   "metadata": {},
   "outputs": [
    {
     "data": {
      "text/plain": [
       "True"
      ]
     },
     "execution_count": 15,
     "metadata": {},
     "output_type": "execute_result"
    }
   ],
   "source": [
    "change_bg = alter_bg()\n",
    "change_bg.load_pascalvoc_model(\"C:/Users/DELL1/My files/Untitled Folder/deeplabv3_xception_tf_dim_ordering_tf_kernels.h5\")\n",
    "output = change_bg.blur_bg(\"C:/Users/DELL1/My files/Untitled Folder/view2.jpeg\", moderate = True)\n",
    "cv2.imwrite(\"blur_bg2.jpg\", output)"
   ]
  },
  {
   "cell_type": "code",
   "execution_count": 16,
   "id": "99d10bd2",
   "metadata": {},
   "outputs": [
    {
     "data": {
      "text/plain": [
       "True"
      ]
     },
     "execution_count": 16,
     "metadata": {},
     "output_type": "execute_result"
    }
   ],
   "source": [
    "change_bg = alter_bg()\n",
    "change_bg.load_pascalvoc_model(\"C:/Users/DELL1/My files/Untitled Folder/deeplabv3_xception_tf_dim_ordering_tf_kernels.h5\")\n",
    "output = change_bg.blur_bg(\"C:/Users/DELL1/My files/Untitled Folder/view3.jpeg\", moderate = True)\n",
    "cv2.imwrite(\"blur_bg3.jpg\", output)"
   ]
  }
 ],
 "metadata": {
  "kernelspec": {
   "display_name": "Python 3",
   "language": "python",
   "name": "python3"
  },
  "language_info": {
   "codemirror_mode": {
    "name": "ipython",
    "version": 3
   },
   "file_extension": ".py",
   "mimetype": "text/x-python",
   "name": "python",
   "nbconvert_exporter": "python",
   "pygments_lexer": "ipython3",
   "version": "3.8.8"
  }
 },
 "nbformat": 4,
 "nbformat_minor": 5
}
